{
 "cells": [
  {
   "cell_type": "code",
   "execution_count": 6,
   "metadata": {},
   "outputs": [],
   "source": [
    "import pandas as pd\n",
    "import numpy as np\n",
    "import matplotlib.pyplot as plt\n",
    "import seaborn as sns\n",
    "%matplotlib inline"
   ]
  },
  {
   "cell_type": "code",
   "execution_count": 7,
   "metadata": {},
   "outputs": [
    {
     "name": "stderr",
     "output_type": "stream",
     "text": [
      "/Users/indranilgupta/opt/anaconda3/lib/python3.8/site-packages/IPython/core/interactiveshell.py:3071: DtypeWarning: Columns (48,49) have mixed types.Specify dtype option on import or set low_memory=False.\n",
      "  has_raised = await self.run_ast_nodes(code_ast.body, cell_name,\n"
     ]
    }
   ],
   "source": [
    "df = pd.read_csv('Pandas/data/311_Service_Requests_from_2010_to_Present.csv')"
   ]
  },
  {
   "cell_type": "code",
   "execution_count": 8,
   "metadata": {},
   "outputs": [
    {
     "data": {
      "text/html": [
       "<div>\n",
       "<style scoped>\n",
       "    .dataframe tbody tr th:only-of-type {\n",
       "        vertical-align: middle;\n",
       "    }\n",
       "\n",
       "    .dataframe tbody tr th {\n",
       "        vertical-align: top;\n",
       "    }\n",
       "\n",
       "    .dataframe thead th {\n",
       "        text-align: right;\n",
       "    }\n",
       "</style>\n",
       "<table border=\"1\" class=\"dataframe\">\n",
       "  <thead>\n",
       "    <tr style=\"text-align: right;\">\n",
       "      <th></th>\n",
       "      <th>Unique Key</th>\n",
       "      <th>Created Date</th>\n",
       "      <th>Closed Date</th>\n",
       "      <th>Agency</th>\n",
       "      <th>Agency Name</th>\n",
       "      <th>Complaint Type</th>\n",
       "      <th>Descriptor</th>\n",
       "      <th>Location Type</th>\n",
       "      <th>Incident Zip</th>\n",
       "      <th>Incident Address</th>\n",
       "      <th>...</th>\n",
       "      <th>Bridge Highway Name</th>\n",
       "      <th>Bridge Highway Direction</th>\n",
       "      <th>Road Ramp</th>\n",
       "      <th>Bridge Highway Segment</th>\n",
       "      <th>Garage Lot Name</th>\n",
       "      <th>Ferry Direction</th>\n",
       "      <th>Ferry Terminal Name</th>\n",
       "      <th>Latitude</th>\n",
       "      <th>Longitude</th>\n",
       "      <th>Location</th>\n",
       "    </tr>\n",
       "  </thead>\n",
       "  <tbody>\n",
       "    <tr>\n",
       "      <th>0</th>\n",
       "      <td>32310363</td>\n",
       "      <td>12/31/2015 11:59:45 PM</td>\n",
       "      <td>01-01-16 0:55</td>\n",
       "      <td>NYPD</td>\n",
       "      <td>New York City Police Department</td>\n",
       "      <td>Noise - Street/Sidewalk</td>\n",
       "      <td>Loud Music/Party</td>\n",
       "      <td>Street/Sidewalk</td>\n",
       "      <td>10034.0</td>\n",
       "      <td>71 VERMILYEA AVENUE</td>\n",
       "      <td>...</td>\n",
       "      <td>NaN</td>\n",
       "      <td>NaN</td>\n",
       "      <td>NaN</td>\n",
       "      <td>NaN</td>\n",
       "      <td>NaN</td>\n",
       "      <td>NaN</td>\n",
       "      <td>NaN</td>\n",
       "      <td>40.865682</td>\n",
       "      <td>-73.923501</td>\n",
       "      <td>(40.86568153633767, -73.92350095571744)</td>\n",
       "    </tr>\n",
       "    <tr>\n",
       "      <th>1</th>\n",
       "      <td>32309934</td>\n",
       "      <td>12/31/2015 11:59:44 PM</td>\n",
       "      <td>01-01-16 1:26</td>\n",
       "      <td>NYPD</td>\n",
       "      <td>New York City Police Department</td>\n",
       "      <td>Blocked Driveway</td>\n",
       "      <td>No Access</td>\n",
       "      <td>Street/Sidewalk</td>\n",
       "      <td>11105.0</td>\n",
       "      <td>27-07 23 AVENUE</td>\n",
       "      <td>...</td>\n",
       "      <td>NaN</td>\n",
       "      <td>NaN</td>\n",
       "      <td>NaN</td>\n",
       "      <td>NaN</td>\n",
       "      <td>NaN</td>\n",
       "      <td>NaN</td>\n",
       "      <td>NaN</td>\n",
       "      <td>40.775945</td>\n",
       "      <td>-73.915094</td>\n",
       "      <td>(40.775945312321085, -73.91509393898605)</td>\n",
       "    </tr>\n",
       "    <tr>\n",
       "      <th>2</th>\n",
       "      <td>32309159</td>\n",
       "      <td>12/31/2015 11:59:29 PM</td>\n",
       "      <td>01-01-16 4:51</td>\n",
       "      <td>NYPD</td>\n",
       "      <td>New York City Police Department</td>\n",
       "      <td>Blocked Driveway</td>\n",
       "      <td>No Access</td>\n",
       "      <td>Street/Sidewalk</td>\n",
       "      <td>10458.0</td>\n",
       "      <td>2897 VALENTINE AVENUE</td>\n",
       "      <td>...</td>\n",
       "      <td>NaN</td>\n",
       "      <td>NaN</td>\n",
       "      <td>NaN</td>\n",
       "      <td>NaN</td>\n",
       "      <td>NaN</td>\n",
       "      <td>NaN</td>\n",
       "      <td>NaN</td>\n",
       "      <td>40.870325</td>\n",
       "      <td>-73.888525</td>\n",
       "      <td>(40.870324522111424, -73.88852464418646)</td>\n",
       "    </tr>\n",
       "  </tbody>\n",
       "</table>\n",
       "<p>3 rows × 53 columns</p>\n",
       "</div>"
      ],
      "text/plain": [
       "   Unique Key            Created Date    Closed Date Agency  \\\n",
       "0    32310363  12/31/2015 11:59:45 PM  01-01-16 0:55   NYPD   \n",
       "1    32309934  12/31/2015 11:59:44 PM  01-01-16 1:26   NYPD   \n",
       "2    32309159  12/31/2015 11:59:29 PM  01-01-16 4:51   NYPD   \n",
       "\n",
       "                       Agency Name           Complaint Type        Descriptor  \\\n",
       "0  New York City Police Department  Noise - Street/Sidewalk  Loud Music/Party   \n",
       "1  New York City Police Department         Blocked Driveway         No Access   \n",
       "2  New York City Police Department         Blocked Driveway         No Access   \n",
       "\n",
       "     Location Type  Incident Zip       Incident Address  ...  \\\n",
       "0  Street/Sidewalk       10034.0    71 VERMILYEA AVENUE  ...   \n",
       "1  Street/Sidewalk       11105.0        27-07 23 AVENUE  ...   \n",
       "2  Street/Sidewalk       10458.0  2897 VALENTINE AVENUE  ...   \n",
       "\n",
       "  Bridge Highway Name Bridge Highway Direction Road Ramp  \\\n",
       "0                 NaN                      NaN       NaN   \n",
       "1                 NaN                      NaN       NaN   \n",
       "2                 NaN                      NaN       NaN   \n",
       "\n",
       "  Bridge Highway Segment Garage Lot Name Ferry Direction Ferry Terminal Name  \\\n",
       "0                    NaN             NaN             NaN                 NaN   \n",
       "1                    NaN             NaN             NaN                 NaN   \n",
       "2                    NaN             NaN             NaN                 NaN   \n",
       "\n",
       "    Latitude  Longitude                                  Location  \n",
       "0  40.865682 -73.923501   (40.86568153633767, -73.92350095571744)  \n",
       "1  40.775945 -73.915094  (40.775945312321085, -73.91509393898605)  \n",
       "2  40.870325 -73.888525  (40.870324522111424, -73.88852464418646)  \n",
       "\n",
       "[3 rows x 53 columns]"
      ]
     },
     "execution_count": 8,
     "metadata": {},
     "output_type": "execute_result"
    }
   ],
   "source": [
    "df.head(3)"
   ]
  },
  {
   "cell_type": "code",
   "execution_count": 9,
   "metadata": {},
   "outputs": [
    {
     "name": "stdout",
     "output_type": "stream",
     "text": [
      "<class 'pandas.core.frame.DataFrame'>\n",
      "RangeIndex: 300698 entries, 0 to 300697\n",
      "Data columns (total 53 columns):\n",
      " #   Column                          Non-Null Count   Dtype  \n",
      "---  ------                          --------------   -----  \n",
      " 0   Unique Key                      300698 non-null  int64  \n",
      " 1   Created Date                    300698 non-null  object \n",
      " 2   Closed Date                     298534 non-null  object \n",
      " 3   Agency                          300698 non-null  object \n",
      " 4   Agency Name                     300698 non-null  object \n",
      " 5   Complaint Type                  300698 non-null  object \n",
      " 6   Descriptor                      294784 non-null  object \n",
      " 7   Location Type                   300567 non-null  object \n",
      " 8   Incident Zip                    298083 non-null  float64\n",
      " 9   Incident Address                256288 non-null  object \n",
      " 10  Street Name                     256288 non-null  object \n",
      " 11  Cross Street 1                  251419 non-null  object \n",
      " 12  Cross Street 2                  250919 non-null  object \n",
      " 13  Intersection Street 1           43858 non-null   object \n",
      " 14  Intersection Street 2           43362 non-null   object \n",
      " 15  Address Type                    297883 non-null  object \n",
      " 16  City                            298084 non-null  object \n",
      " 17  Landmark                        349 non-null     object \n",
      " 18  Facility Type                   298527 non-null  object \n",
      " 19  Status                          300698 non-null  object \n",
      " 20  Due Date                        300695 non-null  object \n",
      " 21  Resolution Description          300698 non-null  object \n",
      " 22  Resolution Action Updated Date  298511 non-null  object \n",
      " 23  Community Board                 300698 non-null  object \n",
      " 24  Borough                         300698 non-null  object \n",
      " 25  X Coordinate (State Plane)      297158 non-null  float64\n",
      " 26  Y Coordinate (State Plane)      297158 non-null  float64\n",
      " 27  Park Facility Name              300698 non-null  object \n",
      " 28  Park Borough                    300698 non-null  object \n",
      " 29  School Name                     300698 non-null  object \n",
      " 30  School Number                   300698 non-null  object \n",
      " 31  School Region                   300697 non-null  object \n",
      " 32  School Code                     300697 non-null  object \n",
      " 33  School Phone Number             300698 non-null  object \n",
      " 34  School Address                  300698 non-null  object \n",
      " 35  School City                     300698 non-null  object \n",
      " 36  School State                    300698 non-null  object \n",
      " 37  School Zip                      300697 non-null  object \n",
      " 38  School Not Found                300698 non-null  object \n",
      " 39  School or Citywide Complaint    0 non-null       float64\n",
      " 40  Vehicle Type                    0 non-null       float64\n",
      " 41  Taxi Company Borough            0 non-null       float64\n",
      " 42  Taxi Pick Up Location           0 non-null       float64\n",
      " 43  Bridge Highway Name             243 non-null     object \n",
      " 44  Bridge Highway Direction        243 non-null     object \n",
      " 45  Road Ramp                       213 non-null     object \n",
      " 46  Bridge Highway Segment          213 non-null     object \n",
      " 47  Garage Lot Name                 0 non-null       float64\n",
      " 48  Ferry Direction                 1 non-null       object \n",
      " 49  Ferry Terminal Name             2 non-null       object \n",
      " 50  Latitude                        297158 non-null  float64\n",
      " 51  Longitude                       297158 non-null  float64\n",
      " 52  Location                        297158 non-null  object \n",
      "dtypes: float64(10), int64(1), object(42)\n",
      "memory usage: 121.6+ MB\n"
     ]
    }
   ],
   "source": [
    "df.info()"
   ]
  },
  {
   "cell_type": "code",
   "execution_count": 10,
   "metadata": {},
   "outputs": [
    {
     "data": {
      "text/plain": [
       "(300698, 53)"
      ]
     },
     "execution_count": 10,
     "metadata": {},
     "output_type": "execute_result"
    }
   ],
   "source": [
    "df.shape"
   ]
  },
  {
   "cell_type": "code",
   "execution_count": 11,
   "metadata": {},
   "outputs": [
    {
     "data": {
      "text/plain": [
       "Unique Key                          0.000000\n",
       "Created Date                        0.000000\n",
       "Closed Date                         0.719659\n",
       "Agency                              0.000000\n",
       "Agency Name                         0.000000\n",
       "Complaint Type                      0.000000\n",
       "Descriptor                          1.966757\n",
       "Location Type                       0.043565\n",
       "Incident Zip                        0.869643\n",
       "Incident Address                   14.768971\n",
       "Street Name                        14.768971\n",
       "Cross Street 1                     16.388203\n",
       "Cross Street 2                     16.554483\n",
       "Intersection Street 1              85.414602\n",
       "Intersection Street 2              85.579552\n",
       "Address Type                        0.936155\n",
       "City                                0.869311\n",
       "Landmark                           99.883937\n",
       "Facility Type                       0.721987\n",
       "Status                              0.000000\n",
       "Due Date                            0.000998\n",
       "Resolution Description              0.000000\n",
       "Resolution Action Updated Date      0.727308\n",
       "Community Board                     0.000000\n",
       "Borough                             0.000000\n",
       "X Coordinate (State Plane)          1.177261\n",
       "Y Coordinate (State Plane)          1.177261\n",
       "Park Facility Name                  0.000000\n",
       "Park Borough                        0.000000\n",
       "School Name                         0.000000\n",
       "School Number                       0.000000\n",
       "School Region                       0.000333\n",
       "School Code                         0.000333\n",
       "School Phone Number                 0.000000\n",
       "School Address                      0.000000\n",
       "School City                         0.000000\n",
       "School State                        0.000000\n",
       "School Zip                          0.000333\n",
       "School Not Found                    0.000000\n",
       "School or Citywide Complaint      100.000000\n",
       "Vehicle Type                      100.000000\n",
       "Taxi Company Borough              100.000000\n",
       "Taxi Pick Up Location             100.000000\n",
       "Bridge Highway Name                99.919188\n",
       "Bridge Highway Direction           99.919188\n",
       "Road Ramp                          99.929165\n",
       "Bridge Highway Segment             99.929165\n",
       "Garage Lot Name                   100.000000\n",
       "Ferry Direction                    99.999667\n",
       "Ferry Terminal Name                99.999335\n",
       "Latitude                            1.177261\n",
       "Longitude                           1.177261\n",
       "Location                            1.177261\n",
       "dtype: float64"
      ]
     },
     "execution_count": 11,
     "metadata": {},
     "output_type": "execute_result"
    }
   ],
   "source": [
    "df.isnull().sum()/len(df)*100"
   ]
  },
  {
   "cell_type": "code",
   "execution_count": 12,
   "metadata": {},
   "outputs": [],
   "source": [
    "#Dropping columns with more than 30% missing values:\n",
    "df.drop(labels=['Intersection Street 1',\n",
    "                     'Intersection Street 2',\n",
    "                     'Landmark',\n",
    "                     'Vehicle Type',\n",
    "                     'School or Citywide Complaint', \n",
    "                     'Taxi Company Borough',\n",
    "                     'Taxi Pick Up Location',\n",
    "                     'Bridge Highway Name',\n",
    "                     'Bridge Highway Direction',\n",
    "                     'Road Ramp',\n",
    "                     'Bridge Highway Segment',\n",
    "                     'Garage Lot Name',\n",
    "                     'Ferry Direction',\n",
    "                     'Ferry Terminal Name',\n",
    "                     ],axis=1,inplace=True)"
   ]
  },
  {
   "cell_type": "code",
   "execution_count": 13,
   "metadata": {},
   "outputs": [],
   "source": [
    "#percentage of missing values greater than 5% and less than 30%: Replacing values with mode\n",
    "df['Incident Address'].fillna(value=df['Incident Address'].mode()[0],inplace=True)\n",
    "df['Street Name'].fillna(value=df['Street Name'].mode()[0],inplace=True)\n",
    "df['Cross Street 1'].fillna(value=df['Cross Street 1'].mode()[0],inplace=True)\n",
    "df['Cross Street 2'].fillna(value=df['Cross Street 2'].mode()[0],inplace=True)"
   ]
  },
  {
   "cell_type": "code",
   "execution_count": 14,
   "metadata": {},
   "outputs": [],
   "source": [
    "#percentage of missing value in column is less than 5%, so dropping rows:\n",
    "['Closed Date','Descriptor','Location Type','Incident Zip','Adddress Type','City','Facility Type','Due Date',\n",
    " 'Resolution Action updated Date','X Coordinate (State Plane)','Y Coordinate (State Plane)','School Region',\n",
    " 'School Code','School Zip','Latitude','Longitude','Location']\n",
    "\n",
    "df.dropna(inplace=True)"
   ]
  },
  {
   "cell_type": "code",
   "execution_count": 27,
   "metadata": {},
   "outputs": [
    {
     "data": {
      "text/plain": [
       "Unique Key                        0\n",
       "Created Date                      0\n",
       "Closed Date                       0\n",
       "Agency                            0\n",
       "Agency Name                       0\n",
       "Complaint Type                    0\n",
       "Descriptor                        0\n",
       "Location Type                     0\n",
       "Incident Zip                      0\n",
       "Incident Address                  0\n",
       "Street Name                       0\n",
       "Cross Street 1                    0\n",
       "Cross Street 2                    0\n",
       "Address Type                      0\n",
       "City                              0\n",
       "Facility Type                     0\n",
       "Status                            0\n",
       "Due Date                          0\n",
       "Resolution Description            0\n",
       "Resolution Action Updated Date    0\n",
       "Community Board                   0\n",
       "Borough                           0\n",
       "X Coordinate (State Plane)        0\n",
       "Y Coordinate (State Plane)        0\n",
       "Park Facility Name                0\n",
       "Park Borough                      0\n",
       "School Name                       0\n",
       "School Number                     0\n",
       "School Region                     0\n",
       "School Code                       0\n",
       "School Phone Number               0\n",
       "School Address                    0\n",
       "School City                       0\n",
       "School State                      0\n",
       "School Zip                        0\n",
       "School Not Found                  0\n",
       "Latitude                          0\n",
       "Longitude                         0\n",
       "Location                          0\n",
       "seconds_to_solve                  0\n",
       "hours_to_solve                    0\n",
       "dtype: int64"
      ]
     },
     "execution_count": 27,
     "metadata": {},
     "output_type": "execute_result"
    }
   ],
   "source": [
    "df.isnull().sum()"
   ]
  },
  {
   "cell_type": "code",
   "execution_count": 28,
   "metadata": {},
   "outputs": [],
   "source": [
    "df['Closed Date'] = pd.to_datetime(df['Closed Date'])\n",
    "df['Created Date'] = pd.to_datetime(df['Created Date'])"
   ]
  },
  {
   "cell_type": "code",
   "execution_count": 29,
   "metadata": {},
   "outputs": [],
   "source": [
    "d = df['Closed Date'] - df['Created Date']"
   ]
  },
  {
   "cell_type": "code",
   "execution_count": 30,
   "metadata": {},
   "outputs": [],
   "source": [
    "df['seconds_to_solve'] = d.dt.seconds"
   ]
  },
  {
   "cell_type": "code",
   "execution_count": 32,
   "metadata": {},
   "outputs": [],
   "source": [
    "df['hours_to_solve'] = df['seconds_to_solve'] / 3600"
   ]
  },
  {
   "cell_type": "code",
   "execution_count": 33,
   "metadata": {},
   "outputs": [
    {
     "data": {
      "text/plain": [
       "array(['New York City Police Department'], dtype=object)"
      ]
     },
     "execution_count": 33,
     "metadata": {},
     "output_type": "execute_result"
    }
   ],
   "source": [
    "df['Agency Name'].unique()"
   ]
  },
  {
   "cell_type": "code",
   "execution_count": 34,
   "metadata": {},
   "outputs": [
    {
     "data": {
      "text/plain": [
       "New York City Police Department    290881\n",
       "Name: Agency Name, dtype: int64"
      ]
     },
     "execution_count": 34,
     "metadata": {},
     "output_type": "execute_result"
    }
   ],
   "source": [
    "df['Agency Name'].value_counts()"
   ]
  },
  {
   "cell_type": "code",
   "execution_count": 35,
   "metadata": {},
   "outputs": [
    {
     "data": {
      "text/plain": [
       "<matplotlib.axes._subplots.AxesSubplot at 0x7ff6d70a7940>"
      ]
     },
     "execution_count": 35,
     "metadata": {},
     "output_type": "execute_result"
    },
    {
     "data": {
      "image/png": "[encoded data removed]",
      "text/plain": [
       "<Figure size 432x288 with 1 Axes>"
      ]
     },
     "metadata": {},
     "output_type": "display_data"
    }
   ],
   "source": [
    "df['Complaint Type'].value_counts().head(10).plot(kind='pie')"
   ]
  },
  {
   "cell_type": "code",
   "execution_count": 39,
   "metadata": {},
   "outputs": [
    {
     "data": {
      "text/plain": [
       "Street/Sidewalk               242760\n",
       "Store/Commercial               19425\n",
       "Club/Bar/Restaurant            17172\n",
       "Residential Building/House      5752\n",
       "Park/Playground                 4246\n",
       "House of Worship                 920\n",
       "Residential Building             226\n",
       "Parking Lot                      116\n",
       "House and Store                   93\n",
       "Vacant Lot                        77\n",
       "Commercial                        62\n",
       "Subway Station                    22\n",
       "Roadway Tunnel                     5\n",
       "Highway                            5\n",
       "Name: Location Type, dtype: int64"
      ]
     },
     "execution_count": 39,
     "metadata": {},
     "output_type": "execute_result"
    }
   ],
   "source": [
    "df['Location Type'].value_counts()"
   ]
  },
  {
   "cell_type": "code",
   "execution_count": 40,
   "metadata": {},
   "outputs": [
    {
     "data": {
      "text/plain": [
       "<matplotlib.axes._subplots.AxesSubplot at 0x7ff6d75903d0>"
      ]
     },
     "execution_count": 40,
     "metadata": {},
     "output_type": "execute_result"
    },
    {
     "data": {
      "image/png": "[encoded data removed]",
      "text/plain": [
       "<Figure size 432x288 with 1 Axes>"
      ]
     },
     "metadata": {
      "needs_background": "light"
     },
     "output_type": "display_data"
    }
   ],
   "source": [
    "sns.distplot(df['hours_to_solve'])"
   ]
  },
  {
   "cell_type": "code",
   "execution_count": 41,
   "metadata": {},
   "outputs": [
    {
     "data": {
      "text/plain": [
       "count    290881.000000\n",
       "mean          3.925422\n",
       "std           3.857343\n",
       "min           0.000000\n",
       "25%           1.266667\n",
       "50%           2.684722\n",
       "75%           5.257500\n",
       "max          23.998611\n",
       "Name: hours_to_solve, dtype: float64"
      ]
     },
     "execution_count": 41,
     "metadata": {},
     "output_type": "execute_result"
    }
   ],
   "source": [
    "df['hours_to_solve'].describe()"
   ]
  },
  {
   "cell_type": "markdown",
   "metadata": {},
   "source": [
    "**Major insights/patterns observed:**\n",
    "\n",
    "- **Top 5 Complaints:** \n",
    "\n",
    "    . Blocked Driveway             \n",
    "    . Illegal Parking              \n",
    "    . Noise - Street/Sidewalk      \n",
    "    . Noise - Commercial           \n",
    "    . Derelict Vehicle    \n",
    "\n",
    "\n",
    "- **Top 5 'Location type' having maximum service request Complaints:**\n",
    "\n",
    "    . Street/Sidewalk             \n",
    "    . Store/Commercial              \n",
    "    . Club/Bar/Restaurant      \n",
    "    . Residential Building/House           \n",
    "    . Park/Playground  \n",
    "    \n",
    "    \n",
    "- Out of the 3 Agencies, maximum complaints falls under the **New York City Police Department.**\n",
    "\n",
    "\n",
    "- The overall average Request_Closing Time for service request complaints is **3.92 hrs.**\n",
    "\n",
    "\n",
    "- All service request complaints are solved under 24hrs."
   ]
  },
  {
   "cell_type": "code",
   "execution_count": 82,
   "metadata": {},
   "outputs": [],
   "source": [
    "df_location_hours = df[['Location Type','hours_to_solve']]"
   ]
  },
  {
   "cell_type": "code",
   "execution_count": 88,
   "metadata": {},
   "outputs": [],
   "source": [
    "df_hours_solve_location_type = df_location_hours.groupby(by='Location Type').mean()"
   ]
  },
  {
   "cell_type": "code",
   "execution_count": 89,
   "metadata": {},
   "outputs": [
    {
     "data": {
      "text/html": [
       "<div>\n",
       "<style scoped>\n",
       "    .dataframe tbody tr th:only-of-type {\n",
       "        vertical-align: middle;\n",
       "    }\n",
       "\n",
       "    .dataframe tbody tr th {\n",
       "        vertical-align: top;\n",
       "    }\n",
       "\n",
       "    .dataframe thead th {\n",
       "        text-align: right;\n",
       "    }\n",
       "</style>\n",
       "<table border=\"1\" class=\"dataframe\">\n",
       "  <thead>\n",
       "    <tr style=\"text-align: right;\">\n",
       "      <th></th>\n",
       "      <th>hours_to_solve</th>\n",
       "    </tr>\n",
       "    <tr>\n",
       "      <th>Location Type</th>\n",
       "      <th></th>\n",
       "    </tr>\n",
       "  </thead>\n",
       "  <tbody>\n",
       "    <tr>\n",
       "      <th>Club/Bar/Restaurant</th>\n",
       "      <td>2.913868</td>\n",
       "    </tr>\n",
       "    <tr>\n",
       "      <th>Commercial</th>\n",
       "      <td>4.568575</td>\n",
       "    </tr>\n",
       "    <tr>\n",
       "      <th>Highway</th>\n",
       "      <td>6.781389</td>\n",
       "    </tr>\n",
       "    <tr>\n",
       "      <th>House and Store</th>\n",
       "      <td>4.497133</td>\n",
       "    </tr>\n",
       "    <tr>\n",
       "      <th>House of Worship</th>\n",
       "      <td>2.964972</td>\n",
       "    </tr>\n",
       "    <tr>\n",
       "      <th>Park/Playground</th>\n",
       "      <td>3.252569</td>\n",
       "    </tr>\n",
       "    <tr>\n",
       "      <th>Parking Lot</th>\n",
       "      <td>4.305261</td>\n",
       "    </tr>\n",
       "    <tr>\n",
       "      <th>Residential Building</th>\n",
       "      <td>4.401292</td>\n",
       "    </tr>\n",
       "    <tr>\n",
       "      <th>Residential Building/House</th>\n",
       "      <td>4.735341</td>\n",
       "    </tr>\n",
       "    <tr>\n",
       "      <th>Roadway Tunnel</th>\n",
       "      <td>8.364167</td>\n",
       "    </tr>\n",
       "    <tr>\n",
       "      <th>Store/Commercial</th>\n",
       "      <td>3.118008</td>\n",
       "    </tr>\n",
       "    <tr>\n",
       "      <th>Street/Sidewalk</th>\n",
       "      <td>4.056685</td>\n",
       "    </tr>\n",
       "    <tr>\n",
       "      <th>Subway Station</th>\n",
       "      <td>3.035606</td>\n",
       "    </tr>\n",
       "    <tr>\n",
       "      <th>Vacant Lot</th>\n",
       "      <td>4.045354</td>\n",
       "    </tr>\n",
       "  </tbody>\n",
       "</table>\n",
       "</div>"
      ],
      "text/plain": [
       "                            hours_to_solve\n",
       "Location Type                             \n",
       "Club/Bar/Restaurant               2.913868\n",
       "Commercial                        4.568575\n",
       "Highway                           6.781389\n",
       "House and Store                   4.497133\n",
       "House of Worship                  2.964972\n",
       "Park/Playground                   3.252569\n",
       "Parking Lot                       4.305261\n",
       "Residential Building              4.401292\n",
       "Residential Building/House        4.735341\n",
       "Roadway Tunnel                    8.364167\n",
       "Store/Commercial                  3.118008\n",
       "Street/Sidewalk                   4.056685\n",
       "Subway Station                    3.035606\n",
       "Vacant Lot                        4.045354"
      ]
     },
     "execution_count": 89,
     "metadata": {},
     "output_type": "execute_result"
    }
   ],
   "source": [
    "df_hours_solve_location_type"
   ]
  },
  {
   "cell_type": "code",
   "execution_count": 84,
   "metadata": {},
   "outputs": [
    {
     "data": {
      "text/plain": [
       "<matplotlib.axes._subplots.AxesSubplot at 0x7ff6d7710910>"
      ]
     },
     "execution_count": 84,
     "metadata": {},
     "output_type": "execute_result"
    },
    {
     "data": {
      "image/png": "[encoded data removed]",
      "text/plain": [
       "<Figure size 720x432 with 1 Axes>"
      ]
     },
     "metadata": {
      "needs_background": "light"
     },
     "output_type": "display_data"
    }
   ],
   "source": [
    "fig,ax = plt.subplots(figsize=(10,6))\n",
    "df_hours_solve_location_type.plot(kind='bar',ax=ax)"
   ]
  },
  {
   "cell_type": "code",
   "execution_count": 85,
   "metadata": {},
   "outputs": [],
   "source": [
    "df1 = df_hours_solve_location_type.reset_index()"
   ]
  },
  {
   "cell_type": "code",
   "execution_count": 87,
   "metadata": {},
   "outputs": [
    {
     "data": {
      "text/plain": [
       "Index(['Location Type', 'hours_to_solve'], dtype='object')"
      ]
     },
     "execution_count": 87,
     "metadata": {},
     "output_type": "execute_result"
    }
   ],
   "source": [
    "df1.keys()"
   ]
  },
  {
   "cell_type": "code",
   "execution_count": 48,
   "metadata": {},
   "outputs": [
    {
     "data": {
      "text/plain": [
       "<seaborn.axisgrid.FacetGrid at 0x7ff6d771bca0>"
      ]
     },
     "execution_count": 48,
     "metadata": {},
     "output_type": "execute_result"
    },
    {
     "data": {
      "image/png": "[encoded data removed]",
      "text/plain": [
       "<Figure size 360x360 with 1 Axes>"
      ]
     },
     "metadata": {
      "needs_background": "light"
     },
     "output_type": "display_data"
    }
   ],
   "source": [
    "fig = sns.catplot(x='Location Type',y='hours_to_solve',kind='box',data=df)\n",
    "fig.set_xticklabels(rotation=90)"
   ]
  },
  {
   "cell_type": "markdown",
   "metadata": {},
   "source": [
    "**Hypothesis testing:**\n",
    "\n",
    "H0: Average response time for street/sidewalk and Club/Bar/Restaurant is same \n",
    "\n",
    "**(mean of hours_to_Solve for street/sidewalk = mean of hours_to_Solve for Club/Bar/Restaurant)**\n",
    "\n",
    "HA: Average response time for street/sidewalk and Club/Bar/Restaurant is not same\n",
    "\n",
    "**(mean of hours_to_Solve for street/sidewalk $\\not =$ mean of hours_to_Solve for Club/Bar/Restaurant)**"
   ]
  },
  {
   "cell_type": "code",
   "execution_count": 161,
   "metadata": {},
   "outputs": [
    {
     "data": {
      "text/html": [
       "<div>\n",
       "<style scoped>\n",
       "    .dataframe tbody tr th:only-of-type {\n",
       "        vertical-align: middle;\n",
       "    }\n",
       "\n",
       "    .dataframe tbody tr th {\n",
       "        vertical-align: top;\n",
       "    }\n",
       "\n",
       "    .dataframe thead th {\n",
       "        text-align: right;\n",
       "    }\n",
       "</style>\n",
       "<table border=\"1\" class=\"dataframe\">\n",
       "  <thead>\n",
       "    <tr style=\"text-align: right;\">\n",
       "      <th></th>\n",
       "      <th>hours_to_solve</th>\n",
       "    </tr>\n",
       "    <tr>\n",
       "      <th>Location Type</th>\n",
       "      <th></th>\n",
       "    </tr>\n",
       "  </thead>\n",
       "  <tbody>\n",
       "    <tr>\n",
       "      <th>Club/Bar/Restaurant</th>\n",
       "      <td>2.913868</td>\n",
       "    </tr>\n",
       "    <tr>\n",
       "      <th>Commercial</th>\n",
       "      <td>4.568575</td>\n",
       "    </tr>\n",
       "    <tr>\n",
       "      <th>Highway</th>\n",
       "      <td>6.781389</td>\n",
       "    </tr>\n",
       "    <tr>\n",
       "      <th>House and Store</th>\n",
       "      <td>4.497133</td>\n",
       "    </tr>\n",
       "    <tr>\n",
       "      <th>House of Worship</th>\n",
       "      <td>2.964972</td>\n",
       "    </tr>\n",
       "    <tr>\n",
       "      <th>Park/Playground</th>\n",
       "      <td>3.252569</td>\n",
       "    </tr>\n",
       "    <tr>\n",
       "      <th>Parking Lot</th>\n",
       "      <td>4.305261</td>\n",
       "    </tr>\n",
       "    <tr>\n",
       "      <th>Residential Building</th>\n",
       "      <td>4.401292</td>\n",
       "    </tr>\n",
       "    <tr>\n",
       "      <th>Residential Building/House</th>\n",
       "      <td>4.735341</td>\n",
       "    </tr>\n",
       "    <tr>\n",
       "      <th>Roadway Tunnel</th>\n",
       "      <td>8.364167</td>\n",
       "    </tr>\n",
       "    <tr>\n",
       "      <th>Store/Commercial</th>\n",
       "      <td>3.118008</td>\n",
       "    </tr>\n",
       "    <tr>\n",
       "      <th>Street/Sidewalk</th>\n",
       "      <td>4.056685</td>\n",
       "    </tr>\n",
       "    <tr>\n",
       "      <th>Subway Station</th>\n",
       "      <td>3.035606</td>\n",
       "    </tr>\n",
       "    <tr>\n",
       "      <th>Vacant Lot</th>\n",
       "      <td>4.045354</td>\n",
       "    </tr>\n",
       "  </tbody>\n",
       "</table>\n",
       "</div>"
      ],
      "text/plain": [
       "                            hours_to_solve\n",
       "Location Type                             \n",
       "Club/Bar/Restaurant               2.913868\n",
       "Commercial                        4.568575\n",
       "Highway                           6.781389\n",
       "House and Store                   4.497133\n",
       "House of Worship                  2.964972\n",
       "Park/Playground                   3.252569\n",
       "Parking Lot                       4.305261\n",
       "Residential Building              4.401292\n",
       "Residential Building/House        4.735341\n",
       "Roadway Tunnel                    8.364167\n",
       "Store/Commercial                  3.118008\n",
       "Street/Sidewalk                   4.056685\n",
       "Subway Station                    3.035606\n",
       "Vacant Lot                        4.045354"
      ]
     },
     "execution_count": 161,
     "metadata": {},
     "output_type": "execute_result"
    }
   ],
   "source": [
    "g1 = df[['hours_to_solve','Location Type']].groupby(by='Location Type')\n",
    "g1.mean()"
   ]
  },
  {
   "cell_type": "code",
   "execution_count": 152,
   "metadata": {},
   "outputs": [],
   "source": [
    "club_bar_restaurant = g1.get_group('Club/Bar/Restaurant')\n",
    "street_sidewalk = g1.get_group('Street/Sidewalk')"
   ]
  },
  {
   "cell_type": "code",
   "execution_count": 153,
   "metadata": {},
   "outputs": [
    {
     "name": "stdout",
     "output_type": "stream",
     "text": [
      "Mean for Club/Bar/Restaurant hours_to_solve    2.913868\n",
      "dtype: float64 \n",
      " Mean for Street/Sidewalk hours_to_solve    4.056685\n",
      "dtype: float64\n",
      "Std for Club/Bar/Restaurant hours_to_solve    3.002439\n",
      "dtype: float64 \n",
      " Std for Street/Sidewalk hours_to_solve    3.939595\n",
      "dtype: float64\n"
     ]
    }
   ],
   "source": [
    "m1 = club_bar_restaurant.mean()\n",
    "s1 = club_bar_restaurant.std() # dof = n-1\n",
    "\n",
    "m2= street_sidewalk.mean()\n",
    "s2 = street_sidewalk.std()\n",
    "\n",
    "\n",
    "print('Mean for Club/Bar/Restaurant {} \\n Mean for Street/Sidewalk {}'.format(m1,m2))\n",
    "print('Std for Club/Bar/Restaurant {} \\n Std for Street/Sidewalk {}'.format(s1,s2))"
   ]
  },
  {
   "cell_type": "code",
   "execution_count": 154,
   "metadata": {},
   "outputs": [
    {
     "name": "stdout",
     "output_type": "stream",
     "text": [
      "19 15\n"
     ]
    }
   ],
   "source": [
    "n1 = len('Club/Bar/Restaurant')\n",
    "n2 = len('Street/Sidewalk')\n",
    "print(n1,n2)"
   ]
  },
  {
   "cell_type": "code",
   "execution_count": 155,
   "metadata": {},
   "outputs": [
    {
     "name": "stdout",
     "output_type": "stream",
     "text": [
      "SP_2 = hours_to_solve    12.674136\n",
      "dtype: float64\n"
     ]
    }
   ],
   "source": [
    "dof = n1+n2-2\n",
    "sp_2 = ((n2-1)*s1**2  + (n1-1)*s2**2) / dof\n",
    "print('SP_2 =',sp_2)"
   ]
  },
  {
   "cell_type": "code",
   "execution_count": 156,
   "metadata": {},
   "outputs": [
    {
     "name": "stdout",
     "output_type": "stream",
     "text": [
      "SP hours_to_solve    3.560075\n",
      "dtype: float64\n"
     ]
    }
   ],
   "source": [
    "sp = np.sqrt(sp_2)\n",
    "print('SP',sp)"
   ]
  },
  {
   "cell_type": "code",
   "execution_count": 157,
   "metadata": {},
   "outputs": [
    {
     "data": {
      "text/plain": [
       "-0.9293955570790884"
      ]
     },
     "execution_count": 157,
     "metadata": {},
     "output_type": "execute_result"
    }
   ],
   "source": [
    "# t - value\n",
    "t_val = (m1-m2)/(sp * np.sqrt(1/n1 + 1/n2))\n",
    "t_val[0]"
   ]
  },
  {
   "cell_type": "code",
   "execution_count": 158,
   "metadata": {},
   "outputs": [
    {
     "data": {
      "text/plain": [
       "32"
      ]
     },
     "execution_count": 158,
     "metadata": {},
     "output_type": "execute_result"
    }
   ],
   "source": [
    "dof"
   ]
  },
  {
   "cell_type": "code",
   "execution_count": 159,
   "metadata": {},
   "outputs": [],
   "source": [
    "from scipy import stats"
   ]
  },
  {
   "cell_type": "code",
   "execution_count": 160,
   "metadata": {},
   "outputs": [
    {
     "data": {
      "text/plain": [
       "0.17982136548654382"
      ]
     },
     "execution_count": 160,
     "metadata": {},
     "output_type": "execute_result"
    }
   ],
   "source": [
    "# t-distribution\n",
    "stats.t.cdf(-0.929395,dof) # it will return p-value"
   ]
  },
  {
   "cell_type": "code",
   "execution_count": 131,
   "metadata": {},
   "outputs": [
    {
     "data": {
      "text/plain": [
       "2.036933343460101"
      ]
     },
     "execution_count": 131,
     "metadata": {},
     "output_type": "execute_result"
    }
   ],
   "source": [
    "stats.t.ppf(0.975,dof) # it will return t-value"
   ]
  },
  {
   "cell_type": "code",
   "execution_count": 132,
   "metadata": {},
   "outputs": [
    {
     "data": {
      "text/plain": [
       "-2.036933343460101"
      ]
     },
     "execution_count": 132,
     "metadata": {},
     "output_type": "execute_result"
    }
   ],
   "source": [
    "# t-distribution\n",
    "stats.t.ppf(0.025,dof) # it will return t-value"
   ]
  },
  {
   "cell_type": "code",
   "execution_count": 139,
   "metadata": {},
   "outputs": [],
   "source": [
    "club_bar_restaurant = g1.get_group('Club/Bar/Restaurant')\n",
    "commercial = g1.get_group('Commercial')"
   ]
  },
  {
   "cell_type": "code",
   "execution_count": 140,
   "metadata": {},
   "outputs": [
    {
     "name": "stdout",
     "output_type": "stream",
     "text": [
      "Mean for Club/Bar/Restaurant hours_to_solve    2.913868\n",
      "dtype: float64 \n",
      " Mean for Commercial hours_to_solve    4.568575\n",
      "dtype: float64\n",
      "Std for Club/Bar/Restaurant hours_to_solve    3.002439\n",
      "dtype: float64 \n",
      " Std for Commercial hours_to_solve    4.478273\n",
      "dtype: float64\n"
     ]
    }
   ],
   "source": [
    "m1 = club_bar_restaurant.mean()\n",
    "s1 = club_bar_restaurant.std() # dof = n-1\n",
    "\n",
    "m2= commercial.mean()\n",
    "s2 = commercial.std()\n",
    "\n",
    "\n",
    "print('Mean for Club/Bar/Restaurant {} \\n Mean for Commercial {}'.format(m1,m2))\n",
    "print('Std for Club/Bar/Restaurant {} \\n Std for Commercial {}'.format(s1,s2))"
   ]
  },
  {
   "cell_type": "code",
   "execution_count": 141,
   "metadata": {},
   "outputs": [
    {
     "name": "stdout",
     "output_type": "stream",
     "text": [
      "19 10\n"
     ]
    }
   ],
   "source": [
    "n1 = len('Club/Bar/Restaurant')\n",
    "n2 = len('Commercial')\n",
    "print(n1,n2)"
   ]
  },
  {
   "cell_type": "code",
   "execution_count": 142,
   "metadata": {},
   "outputs": [
    {
     "name": "stdout",
     "output_type": "stream",
     "text": [
      "SP_2 = hours_to_solve    16.374833\n",
      "dtype: float64\n"
     ]
    }
   ],
   "source": [
    "dof = n1+n2-2\n",
    "sp_2 = ((n2-1)*s1**2  + (n1-1)*s2**2) / dof\n",
    "print('SP_2 =',sp_2)"
   ]
  },
  {
   "cell_type": "code",
   "execution_count": 143,
   "metadata": {},
   "outputs": [
    {
     "name": "stdout",
     "output_type": "stream",
     "text": [
      "SP hours_to_solve    4.046583\n",
      "dtype: float64\n"
     ]
    }
   ],
   "source": [
    "sp = np.sqrt(sp_2)\n",
    "print('SP',sp)"
   ]
  },
  {
   "cell_type": "code",
   "execution_count": 144,
   "metadata": {},
   "outputs": [
    {
     "data": {
      "text/plain": [
       "-1.0466720298030563"
      ]
     },
     "execution_count": 144,
     "metadata": {},
     "output_type": "execute_result"
    }
   ],
   "source": [
    "# t - value\n",
    "t_val = (m1-m2)/(sp * np.sqrt(1/n1 + 1/n2))\n",
    "t_val[0]"
   ]
  },
  {
   "cell_type": "code",
   "execution_count": 145,
   "metadata": {},
   "outputs": [
    {
     "data": {
      "text/plain": [
       "27"
      ]
     },
     "execution_count": 145,
     "metadata": {},
     "output_type": "execute_result"
    }
   ],
   "source": [
    "dof"
   ]
  },
  {
   "cell_type": "code",
   "execution_count": 146,
   "metadata": {},
   "outputs": [],
   "source": [
    "from scipy import stats"
   ]
  },
  {
   "cell_type": "code",
   "execution_count": 147,
   "metadata": {},
   "outputs": [
    {
     "data": {
      "text/plain": [
       "0.15226594154702466"
      ]
     },
     "execution_count": 147,
     "metadata": {},
     "output_type": "execute_result"
    }
   ],
   "source": [
    "# t-distribution\n",
    "stats.t.cdf(-1.04667,dof) # it will return p-value"
   ]
  },
  {
   "cell_type": "code",
   "execution_count": null,
   "metadata": {},
   "outputs": [],
   "source": []
  },
  {
   "cell_type": "code",
   "execution_count": null,
   "metadata": {},
   "outputs": [],
   "source": []
  },
  {
   "cell_type": "code",
   "execution_count": null,
   "metadata": {},
   "outputs": [],
   "source": []
  },
  {
   "cell_type": "code",
   "execution_count": null,
   "metadata": {},
   "outputs": [],
   "source": []
  }
 ],
 "metadata": {
  "kernelspec": {
   "display_name": "Python 3",
   "language": "python",
   "name": "python3"
  },
  "language_info": {
   "codemirror_mode": {
    "name": "ipython",
    "version": 3
   },
   "file_extension": ".py",
   "mimetype": "text/x-python",
   "name": "python",
   "nbconvert_exporter": "python",
   "pygments_lexer": "ipython3",
   "version": "3.8.3"
  }
 },
 "nbformat": 4,
 "nbformat_minor": 4
}
